{
 "cells": [
  {
   "cell_type": "code",
   "execution_count": 1,
   "metadata": {},
   "outputs": [],
   "source": [
    "import sqlite3\n",
    "import pandas as pd"
   ]
  },
  {
   "cell_type": "code",
   "execution_count": 2,
   "metadata": {},
   "outputs": [],
   "source": [
    "# Create SQLite3 database \n",
    "conn = sqlite3.connect('news_database.db')\n",
    "cursor = conn.cursor()"
   ]
  },
  {
   "cell_type": "code",
   "execution_count": 3,
   "metadata": {},
   "outputs": [
    {
     "data": {
      "text/plain": [
       "<sqlite3.Cursor at 0x1e53d29d540>"
      ]
     },
     "execution_count": 3,
     "metadata": {},
     "output_type": "execute_result"
    }
   ],
   "source": [
    "# add table Articles\n",
    "cursor.execute('''\n",
    "    CREATE TABLE IF NOT EXISTS Articles (\n",
    "        article_id INTEGER PRIMARY KEY AUTOINCREMENT,\n",
    "        url TEXT UNIQUE NOT NULL,\n",
    "        title TEXT,\n",
    "        label TEXT,\n",
    "        theme TEXT,\n",
    "        badge TEXT,\n",
    "        datetime TEXT NOT NULL,\n",
    "        author TEXT,\n",
    "        text TEXT NOT NULL\n",
    "        )\n",
    "''')"
   ]
  },
  {
   "cell_type": "code",
   "execution_count": 4,
   "metadata": {},
   "outputs": [
    {
     "data": {
      "text/plain": [
       "<sqlite3.Cursor at 0x1e53d29d540>"
      ]
     },
     "execution_count": 4,
     "metadata": {},
     "output_type": "execute_result"
    }
   ],
   "source": [
    "# Create Reports table\n",
    "cursor.execute('''\n",
    "    CREATE TABLE IF NOT EXISTS Reports (\n",
    "        report_id INTEGER PRIMARY KEY AUTOINCREMENT,\n",
    "        report_date TEXT UNIQUE NOT NULL,\n",
    "        content TEXT NOT NULL\n",
    "    )\n",
    "''')"
   ]
  },
  {
   "cell_type": "code",
   "execution_count": 5,
   "metadata": {},
   "outputs": [
    {
     "data": {
      "text/plain": [
       "<sqlite3.Cursor at 0x1e53d29d540>"
      ]
     },
     "execution_count": 5,
     "metadata": {},
     "output_type": "execute_result"
    }
   ],
   "source": [
    "# Create Article_Report_Link table\n",
    "cursor.execute('''\n",
    "    CREATE TABLE IF NOT EXISTS Article_Report_Link (\n",
    "        id INTEGER PRIMARY KEY AUTOINCREMENT,\n",
    "        article_id INTEGER,\n",
    "        report_id INTEGER,\n",
    "        FOREIGN KEY (article_id) REFERENCES Articles(article_id) ON DELETE CASCADE,\n",
    "        FOREIGN KEY (report_id) REFERENCES Reports(report_id) ON DELETE CASCADE\n",
    "    )\n",
    "''')"
   ]
  },
  {
   "cell_type": "code",
   "execution_count": 6,
   "metadata": {},
   "outputs": [],
   "source": [
    "# Commit changes and close connection\n",
    "conn.commit()\n",
    "conn.close()"
   ]
  },
  {
   "cell_type": "code",
   "execution_count": 8,
   "metadata": {},
   "outputs": [],
   "source": [
    "data = pd.read_csv('scraped_data.csv')\n",
    "data = data.where(pd.notnull(data), None)\n",
    "\n",
    "# Convert to list of tuples (in the correct order)\n",
    "data = [\n",
    "    (\n",
    "        row['url'], \n",
    "        row['title'], \n",
    "        row['label'], \n",
    "        row['theme'], \n",
    "        row['badge'], \n",
    "        row['datetime'], \n",
    "        row['author'], \n",
    "        row['text']\n",
    "    )\n",
    "    for _, row in data.iterrows()\n",
    "]\n"
   ]
  },
  {
   "cell_type": "code",
   "execution_count": 9,
   "metadata": {},
   "outputs": [],
   "source": [
    "# Insert data\n",
    "conn = sqlite3.connect('news_database.db')\n",
    "cursor = conn.cursor()\n",
    "    \n",
    "try:\n",
    "    cursor.executemany('''\n",
    "        INSERT INTO Articles (url, title, label, theme, badge, datetime, author, text)\n",
    "        VALUES (?, ?, ?, ?, ?, ?, ?, ?)\n",
    "    ''', data)\n",
    "    conn.commit()\n",
    "except sqlite3.IntegrityError as e:\n",
    "    print(f\"IntegrityError: {e}\")\n",
    "except Exception as e:\n",
    "    print(f\"Error: {e}\")\n",
    "finally:\n",
    "    conn.close()"
   ]
  },
  {
   "cell_type": "markdown",
   "metadata": {},
   "source": [
    "# Until next time..."
   ]
  },
  {
   "cell_type": "code",
   "execution_count": null,
   "metadata": {},
   "outputs": [],
   "source": [
    "conn = sqlite3.connect('news_database.db')\n",
    "cursor = conn.cursor()\n",
    "\n",
    "cursor.execute('''\n",
    "INSERT INTO Reports (report_date, content)\n",
    "VALUES (?, ?)\n",
    "''', (report_date, content))\n",
    "\n",
    "conn.commit()\n",
    "conn.close()"
   ]
  }
 ],
 "metadata": {
  "kernelspec": {
   "display_name": "SDS24",
   "language": "python",
   "name": "python3"
  },
  "language_info": {
   "codemirror_mode": {
    "name": "ipython",
    "version": 3
   },
   "file_extension": ".py",
   "mimetype": "text/x-python",
   "name": "python",
   "nbconvert_exporter": "python",
   "pygments_lexer": "ipython3",
   "version": "3.12.6"
  }
 },
 "nbformat": 4,
 "nbformat_minor": 2
}
